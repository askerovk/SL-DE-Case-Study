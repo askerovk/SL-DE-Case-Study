{
 "cells": [
  {
   "cell_type": "code",
   "execution_count": 1,
   "id": "e04ffe3f",
   "metadata": {},
   "outputs": [],
   "source": [
    "import os\n",
    "\n",
    "import pandas as pd"
   ]
  },
  {
   "cell_type": "code",
   "execution_count": 2,
   "id": "c7bef046",
   "metadata": {},
   "outputs": [],
   "source": [
    "def cwd_level_up(path):\n",
    "    \"\"\"Set current working directory one level higher in path.\"\"\"\n",
    "\n",
    "    new_path = os.path.dirname(path)\n",
    "\n",
    "    os.chdir(new_path)\n",
    "\n",
    "\n",
    "cwd_level_up(os.getcwd())"
   ]
  },
  {
   "cell_type": "code",
   "execution_count": 3,
   "id": "fbbbe93b",
   "metadata": {},
   "outputs": [
    {
     "data": {
      "text/html": [
       "<div>\n",
       "<style scoped>\n",
       "    .dataframe tbody tr th:only-of-type {\n",
       "        vertical-align: middle;\n",
       "    }\n",
       "\n",
       "    .dataframe tbody tr th {\n",
       "        vertical-align: top;\n",
       "    }\n",
       "\n",
       "    .dataframe thead th {\n",
       "        text-align: right;\n",
       "    }\n",
       "</style>\n",
       "<table border=\"1\" class=\"dataframe\">\n",
       "  <thead>\n",
       "    <tr style=\"text-align: right;\">\n",
       "      <th></th>\n",
       "      <th>category_id</th>\n",
       "      <th>category_department_id</th>\n",
       "      <th>category_name</th>\n",
       "    </tr>\n",
       "  </thead>\n",
       "  <tbody>\n",
       "    <tr>\n",
       "      <th>0</th>\n",
       "      <td>1</td>\n",
       "      <td>2</td>\n",
       "      <td>Football</td>\n",
       "    </tr>\n",
       "    <tr>\n",
       "      <th>1</th>\n",
       "      <td>2</td>\n",
       "      <td>2</td>\n",
       "      <td>Soccer</td>\n",
       "    </tr>\n",
       "    <tr>\n",
       "      <th>2</th>\n",
       "      <td>3</td>\n",
       "      <td>2</td>\n",
       "      <td>Baseball &amp; Softball</td>\n",
       "    </tr>\n",
       "    <tr>\n",
       "      <th>3</th>\n",
       "      <td>4</td>\n",
       "      <td>2</td>\n",
       "      <td>Basketball</td>\n",
       "    </tr>\n",
       "    <tr>\n",
       "      <th>4</th>\n",
       "      <td>5</td>\n",
       "      <td>2</td>\n",
       "      <td>Lacrosse</td>\n",
       "    </tr>\n",
       "  </tbody>\n",
       "</table>\n",
       "</div>"
      ],
      "text/plain": [
       "   category_id  category_department_id        category_name\n",
       "0            1                       2             Football\n",
       "1            2                       2               Soccer\n",
       "2            3                       2  Baseball & Softball\n",
       "3            4                       2           Basketball\n",
       "4            5                       2             Lacrosse"
      ]
     },
     "execution_count": 3,
     "metadata": {},
     "output_type": "execute_result"
    }
   ],
   "source": [
    "CATEGORIES_RAW = pd.read_csv('categories/part-00000', header=None)\n",
    "\n",
    "CATEGORIES_RAW.columns = [\n",
    "    'category_id', 'category_department_id', 'category_name'\n",
    "]\n",
    "\n",
    "CATEGORIES_RAW.head()"
   ]
  },
  {
   "cell_type": "code",
   "execution_count": 13,
   "id": "eba33423",
   "metadata": {},
   "outputs": [
    {
     "data": {
      "text/plain": [
       "category_id               0\n",
       "category_department_id    0\n",
       "category_name             0\n",
       "dtype: int64"
      ]
     },
     "execution_count": 13,
     "metadata": {},
     "output_type": "execute_result"
    }
   ],
   "source": [
    "CATEGORIES_RAW.isna().sum()"
   ]
  },
  {
   "cell_type": "code",
   "execution_count": 4,
   "id": "566557df",
   "metadata": {},
   "outputs": [
    {
     "data": {
      "text/html": [
       "<div>\n",
       "<style scoped>\n",
       "    .dataframe tbody tr th:only-of-type {\n",
       "        vertical-align: middle;\n",
       "    }\n",
       "\n",
       "    .dataframe tbody tr th {\n",
       "        vertical-align: top;\n",
       "    }\n",
       "\n",
       "    .dataframe thead th {\n",
       "        text-align: right;\n",
       "    }\n",
       "</style>\n",
       "<table border=\"1\" class=\"dataframe\">\n",
       "  <thead>\n",
       "    <tr style=\"text-align: right;\">\n",
       "      <th></th>\n",
       "      <th>customer_id</th>\n",
       "      <th>customer_fname</th>\n",
       "      <th>customer_lname</th>\n",
       "      <th>customer_email</th>\n",
       "      <th>customer_password</th>\n",
       "      <th>customer_street</th>\n",
       "      <th>customer_city</th>\n",
       "      <th>customer_state</th>\n",
       "      <th>customer_zipcode</th>\n",
       "    </tr>\n",
       "  </thead>\n",
       "  <tbody>\n",
       "    <tr>\n",
       "      <th>0</th>\n",
       "      <td>1</td>\n",
       "      <td>Richard</td>\n",
       "      <td>Hernandez</td>\n",
       "      <td>XXXXXXXXX</td>\n",
       "      <td>XXXXXXXXX</td>\n",
       "      <td>6303 Heather Plaza</td>\n",
       "      <td>Brownsville</td>\n",
       "      <td>TX</td>\n",
       "      <td>78521</td>\n",
       "    </tr>\n",
       "    <tr>\n",
       "      <th>1</th>\n",
       "      <td>2</td>\n",
       "      <td>Mary</td>\n",
       "      <td>Barrett</td>\n",
       "      <td>XXXXXXXXX</td>\n",
       "      <td>XXXXXXXXX</td>\n",
       "      <td>9526 Noble Embers Ridge</td>\n",
       "      <td>Littleton</td>\n",
       "      <td>CO</td>\n",
       "      <td>80126</td>\n",
       "    </tr>\n",
       "    <tr>\n",
       "      <th>2</th>\n",
       "      <td>3</td>\n",
       "      <td>Ann</td>\n",
       "      <td>Smith</td>\n",
       "      <td>XXXXXXXXX</td>\n",
       "      <td>XXXXXXXXX</td>\n",
       "      <td>3422 Blue Pioneer Bend</td>\n",
       "      <td>Caguas</td>\n",
       "      <td>PR</td>\n",
       "      <td>725</td>\n",
       "    </tr>\n",
       "    <tr>\n",
       "      <th>3</th>\n",
       "      <td>4</td>\n",
       "      <td>Mary</td>\n",
       "      <td>Jones</td>\n",
       "      <td>XXXXXXXXX</td>\n",
       "      <td>XXXXXXXXX</td>\n",
       "      <td>8324 Little Common</td>\n",
       "      <td>San Marcos</td>\n",
       "      <td>CA</td>\n",
       "      <td>92069</td>\n",
       "    </tr>\n",
       "    <tr>\n",
       "      <th>4</th>\n",
       "      <td>5</td>\n",
       "      <td>Robert</td>\n",
       "      <td>Hudson</td>\n",
       "      <td>XXXXXXXXX</td>\n",
       "      <td>XXXXXXXXX</td>\n",
       "      <td>10 Crystal River Mall</td>\n",
       "      <td>Caguas</td>\n",
       "      <td>PR</td>\n",
       "      <td>725</td>\n",
       "    </tr>\n",
       "  </tbody>\n",
       "</table>\n",
       "</div>"
      ],
      "text/plain": [
       "   customer_id customer_fname customer_lname customer_email customer_password  \\\n",
       "0            1        Richard      Hernandez      XXXXXXXXX         XXXXXXXXX   \n",
       "1            2           Mary        Barrett      XXXXXXXXX         XXXXXXXXX   \n",
       "2            3            Ann          Smith      XXXXXXXXX         XXXXXXXXX   \n",
       "3            4           Mary          Jones      XXXXXXXXX         XXXXXXXXX   \n",
       "4            5         Robert         Hudson      XXXXXXXXX         XXXXXXXXX   \n",
       "\n",
       "           customer_street customer_city customer_state  customer_zipcode  \n",
       "0       6303 Heather Plaza   Brownsville             TX             78521  \n",
       "1  9526 Noble Embers Ridge     Littleton             CO             80126  \n",
       "2   3422 Blue Pioneer Bend        Caguas             PR               725  \n",
       "3       8324 Little Common    San Marcos             CA             92069  \n",
       "4   10 Crystal River Mall         Caguas             PR               725  "
      ]
     },
     "execution_count": 4,
     "metadata": {},
     "output_type": "execute_result"
    }
   ],
   "source": [
    "CUSTOMERS_RAW = pd.read_csv('customers/part-00000', header=None)\n",
    "\n",
    "CUSTOMERS_RAW.columns = [\n",
    "    'customer_id', 'customer_fname', 'customer_lname', 'customer_email',\n",
    "    'customer_password', 'customer_street', 'customer_city', 'customer_state',\n",
    "    'customer_zipcode'\n",
    "]\n",
    "\n",
    "CUSTOMERS_RAW.head()"
   ]
  },
  {
   "cell_type": "code",
   "execution_count": 14,
   "id": "c94779b0",
   "metadata": {},
   "outputs": [
    {
     "data": {
      "text/plain": [
       "customer_id          0\n",
       "customer_fname       0\n",
       "customer_lname       0\n",
       "customer_email       0\n",
       "customer_password    0\n",
       "customer_street      0\n",
       "customer_city        0\n",
       "customer_state       0\n",
       "customer_zipcode     0\n",
       "dtype: int64"
      ]
     },
     "execution_count": 14,
     "metadata": {},
     "output_type": "execute_result"
    }
   ],
   "source": [
    "CUSTOMERS_RAW.isna().sum()"
   ]
  },
  {
   "cell_type": "code",
   "execution_count": 5,
   "id": "53b2ba6e",
   "metadata": {},
   "outputs": [
    {
     "data": {
      "text/html": [
       "<div>\n",
       "<style scoped>\n",
       "    .dataframe tbody tr th:only-of-type {\n",
       "        vertical-align: middle;\n",
       "    }\n",
       "\n",
       "    .dataframe tbody tr th {\n",
       "        vertical-align: top;\n",
       "    }\n",
       "\n",
       "    .dataframe thead th {\n",
       "        text-align: right;\n",
       "    }\n",
       "</style>\n",
       "<table border=\"1\" class=\"dataframe\">\n",
       "  <thead>\n",
       "    <tr style=\"text-align: right;\">\n",
       "      <th></th>\n",
       "      <th>order_item_id</th>\n",
       "      <th>order_item_order_id</th>\n",
       "      <th>order_item_product_id</th>\n",
       "      <th>order_item_quantity</th>\n",
       "      <th>order_item_subtotal</th>\n",
       "      <th>order_item_price</th>\n",
       "    </tr>\n",
       "  </thead>\n",
       "  <tbody>\n",
       "    <tr>\n",
       "      <th>0</th>\n",
       "      <td>1</td>\n",
       "      <td>1</td>\n",
       "      <td>957</td>\n",
       "      <td>1</td>\n",
       "      <td>299.98</td>\n",
       "      <td>299.98</td>\n",
       "    </tr>\n",
       "    <tr>\n",
       "      <th>1</th>\n",
       "      <td>2</td>\n",
       "      <td>2</td>\n",
       "      <td>1073</td>\n",
       "      <td>1</td>\n",
       "      <td>199.99</td>\n",
       "      <td>199.99</td>\n",
       "    </tr>\n",
       "    <tr>\n",
       "      <th>2</th>\n",
       "      <td>3</td>\n",
       "      <td>2</td>\n",
       "      <td>502</td>\n",
       "      <td>5</td>\n",
       "      <td>250.00</td>\n",
       "      <td>50.00</td>\n",
       "    </tr>\n",
       "    <tr>\n",
       "      <th>3</th>\n",
       "      <td>4</td>\n",
       "      <td>2</td>\n",
       "      <td>403</td>\n",
       "      <td>1</td>\n",
       "      <td>129.99</td>\n",
       "      <td>129.99</td>\n",
       "    </tr>\n",
       "    <tr>\n",
       "      <th>4</th>\n",
       "      <td>5</td>\n",
       "      <td>4</td>\n",
       "      <td>897</td>\n",
       "      <td>2</td>\n",
       "      <td>49.98</td>\n",
       "      <td>24.99</td>\n",
       "    </tr>\n",
       "  </tbody>\n",
       "</table>\n",
       "</div>"
      ],
      "text/plain": [
       "   order_item_id  order_item_order_id  order_item_product_id  \\\n",
       "0              1                    1                    957   \n",
       "1              2                    2                   1073   \n",
       "2              3                    2                    502   \n",
       "3              4                    2                    403   \n",
       "4              5                    4                    897   \n",
       "\n",
       "   order_item_quantity  order_item_subtotal  order_item_price  \n",
       "0                    1               299.98            299.98  \n",
       "1                    1               199.99            199.99  \n",
       "2                    5               250.00             50.00  \n",
       "3                    1               129.99            129.99  \n",
       "4                    2                49.98             24.99  "
      ]
     },
     "execution_count": 5,
     "metadata": {},
     "output_type": "execute_result"
    }
   ],
   "source": [
    "ORDER_ITEMS_RAW = pd.read_csv('order_items/part-00000', header=None)\n",
    "\n",
    "ORDER_ITEMS_RAW.columns=[\n",
    "    'order_item_id', 'order_item_order_id', 'order_item_product_id',\n",
    "    'order_item_quantity', 'order_item_subtotal', 'order_item_price'\n",
    "]\n",
    "\n",
    "ORDER_ITEMS_RAW.head()"
   ]
  },
  {
   "cell_type": "code",
   "execution_count": 16,
   "id": "701a6863",
   "metadata": {},
   "outputs": [
    {
     "data": {
      "text/plain": [
       "order_item_id            0\n",
       "order_item_order_id      0\n",
       "order_item_product_id    0\n",
       "order_item_quantity      0\n",
       "order_item_subtotal      0\n",
       "order_item_price         0\n",
       "dtype: int64"
      ]
     },
     "execution_count": 16,
     "metadata": {},
     "output_type": "execute_result"
    }
   ],
   "source": [
    "ORDER_ITEMS_RAW.isna().sum()"
   ]
  },
  {
   "cell_type": "code",
   "execution_count": 6,
   "id": "0a65f72f",
   "metadata": {},
   "outputs": [
    {
     "data": {
      "text/html": [
       "<div>\n",
       "<style scoped>\n",
       "    .dataframe tbody tr th:only-of-type {\n",
       "        vertical-align: middle;\n",
       "    }\n",
       "\n",
       "    .dataframe tbody tr th {\n",
       "        vertical-align: top;\n",
       "    }\n",
       "\n",
       "    .dataframe thead th {\n",
       "        text-align: right;\n",
       "    }\n",
       "</style>\n",
       "<table border=\"1\" class=\"dataframe\">\n",
       "  <thead>\n",
       "    <tr style=\"text-align: right;\">\n",
       "      <th></th>\n",
       "      <th>order_id</th>\n",
       "      <th>order_date</th>\n",
       "      <th>order_customer_id</th>\n",
       "      <th>order_status</th>\n",
       "    </tr>\n",
       "  </thead>\n",
       "  <tbody>\n",
       "    <tr>\n",
       "      <th>0</th>\n",
       "      <td>1</td>\n",
       "      <td>2013-07-25 00:00:00.0</td>\n",
       "      <td>11599</td>\n",
       "      <td>CLOSED</td>\n",
       "    </tr>\n",
       "    <tr>\n",
       "      <th>1</th>\n",
       "      <td>2</td>\n",
       "      <td>2013-07-25 00:00:00.0</td>\n",
       "      <td>256</td>\n",
       "      <td>PENDING_PAYMENT</td>\n",
       "    </tr>\n",
       "    <tr>\n",
       "      <th>2</th>\n",
       "      <td>3</td>\n",
       "      <td>2013-07-25 00:00:00.0</td>\n",
       "      <td>12111</td>\n",
       "      <td>COMPLETE</td>\n",
       "    </tr>\n",
       "    <tr>\n",
       "      <th>3</th>\n",
       "      <td>4</td>\n",
       "      <td>2013-07-25 00:00:00.0</td>\n",
       "      <td>8827</td>\n",
       "      <td>CLOSED</td>\n",
       "    </tr>\n",
       "    <tr>\n",
       "      <th>4</th>\n",
       "      <td>5</td>\n",
       "      <td>2013-07-25 00:00:00.0</td>\n",
       "      <td>11318</td>\n",
       "      <td>COMPLETE</td>\n",
       "    </tr>\n",
       "  </tbody>\n",
       "</table>\n",
       "</div>"
      ],
      "text/plain": [
       "   order_id             order_date  order_customer_id     order_status\n",
       "0         1  2013-07-25 00:00:00.0              11599           CLOSED\n",
       "1         2  2013-07-25 00:00:00.0                256  PENDING_PAYMENT\n",
       "2         3  2013-07-25 00:00:00.0              12111         COMPLETE\n",
       "3         4  2013-07-25 00:00:00.0               8827           CLOSED\n",
       "4         5  2013-07-25 00:00:00.0              11318         COMPLETE"
      ]
     },
     "execution_count": 6,
     "metadata": {},
     "output_type": "execute_result"
    }
   ],
   "source": [
    "ORDERS_RAW = pd.read_csv('orders/part-00000', header=None)\n",
    "\n",
    "ORDERS_RAW.columns = [\n",
    "    'order_id', 'order_date', 'order_customer_id', 'order_status'\n",
    "]\n",
    "\n",
    "ORDERS_RAW.head()"
   ]
  },
  {
   "cell_type": "code",
   "execution_count": 17,
   "id": "3ad28d73",
   "metadata": {},
   "outputs": [
    {
     "data": {
      "text/plain": [
       "order_id             0\n",
       "order_date           0\n",
       "order_customer_id    0\n",
       "order_status         0\n",
       "dtype: int64"
      ]
     },
     "execution_count": 17,
     "metadata": {},
     "output_type": "execute_result"
    }
   ],
   "source": [
    "ORDERS_RAW.isna().sum()"
   ]
  },
  {
   "cell_type": "code",
   "execution_count": 10,
   "id": "5649a604",
   "metadata": {},
   "outputs": [
    {
     "data": {
      "text/plain": [
       "array(['CLOSED', 'PENDING_PAYMENT', 'COMPLETE', 'PROCESSING',\n",
       "       'PAYMENT_REVIEW', 'PENDING', 'ON_HOLD', 'CANCELED',\n",
       "       'SUSPECTED_FRAUD'], dtype=object)"
      ]
     },
     "execution_count": 10,
     "metadata": {},
     "output_type": "execute_result"
    }
   ],
   "source": [
    "ORDERS_RAW.order_status.unique()"
   ]
  },
  {
   "cell_type": "code",
   "execution_count": 9,
   "id": "1de88631",
   "metadata": {},
   "outputs": [
    {
     "data": {
      "text/html": [
       "<div>\n",
       "<style scoped>\n",
       "    .dataframe tbody tr th:only-of-type {\n",
       "        vertical-align: middle;\n",
       "    }\n",
       "\n",
       "    .dataframe tbody tr th {\n",
       "        vertical-align: top;\n",
       "    }\n",
       "\n",
       "    .dataframe thead th {\n",
       "        text-align: right;\n",
       "    }\n",
       "</style>\n",
       "<table border=\"1\" class=\"dataframe\">\n",
       "  <thead>\n",
       "    <tr style=\"text-align: right;\">\n",
       "      <th></th>\n",
       "      <th>product_id</th>\n",
       "      <th>product_category_id</th>\n",
       "      <th>product_name</th>\n",
       "      <th>product_description</th>\n",
       "      <th>product_price</th>\n",
       "      <th>product_image</th>\n",
       "    </tr>\n",
       "  </thead>\n",
       "  <tbody>\n",
       "    <tr>\n",
       "      <th>0</th>\n",
       "      <td>1</td>\n",
       "      <td>2</td>\n",
       "      <td>Quest Q64 10 FT. x 10 FT. Slant Leg Instant U</td>\n",
       "      <td>NaN</td>\n",
       "      <td>59.98</td>\n",
       "      <td>http://images.acmesports.sports/Quest+Q64+10+F...</td>\n",
       "    </tr>\n",
       "    <tr>\n",
       "      <th>1</th>\n",
       "      <td>2</td>\n",
       "      <td>2</td>\n",
       "      <td>Under Armour Men's Highlight MC Football Clea</td>\n",
       "      <td>NaN</td>\n",
       "      <td>129.99</td>\n",
       "      <td>http://images.acmesports.sports/Under+Armour+M...</td>\n",
       "    </tr>\n",
       "    <tr>\n",
       "      <th>2</th>\n",
       "      <td>3</td>\n",
       "      <td>2</td>\n",
       "      <td>Under Armour Men's Renegade D Mid Football Cl</td>\n",
       "      <td>NaN</td>\n",
       "      <td>89.99</td>\n",
       "      <td>http://images.acmesports.sports/Under+Armour+M...</td>\n",
       "    </tr>\n",
       "    <tr>\n",
       "      <th>3</th>\n",
       "      <td>4</td>\n",
       "      <td>2</td>\n",
       "      <td>Under Armour Men's Renegade D Mid Football Cl</td>\n",
       "      <td>NaN</td>\n",
       "      <td>89.99</td>\n",
       "      <td>http://images.acmesports.sports/Under+Armour+M...</td>\n",
       "    </tr>\n",
       "    <tr>\n",
       "      <th>4</th>\n",
       "      <td>5</td>\n",
       "      <td>2</td>\n",
       "      <td>Riddell Youth Revolution Speed Custom Footbal</td>\n",
       "      <td>NaN</td>\n",
       "      <td>199.99</td>\n",
       "      <td>http://images.acmesports.sports/Riddell+Youth+...</td>\n",
       "    </tr>\n",
       "  </tbody>\n",
       "</table>\n",
       "</div>"
      ],
      "text/plain": [
       "   product_id  product_category_id  \\\n",
       "0           1                    2   \n",
       "1           2                    2   \n",
       "2           3                    2   \n",
       "3           4                    2   \n",
       "4           5                    2   \n",
       "\n",
       "                                    product_name  product_description  \\\n",
       "0  Quest Q64 10 FT. x 10 FT. Slant Leg Instant U                  NaN   \n",
       "1  Under Armour Men's Highlight MC Football Clea                  NaN   \n",
       "2  Under Armour Men's Renegade D Mid Football Cl                  NaN   \n",
       "3  Under Armour Men's Renegade D Mid Football Cl                  NaN   \n",
       "4  Riddell Youth Revolution Speed Custom Footbal                  NaN   \n",
       "\n",
       "   product_price                                      product_image  \n",
       "0          59.98  http://images.acmesports.sports/Quest+Q64+10+F...  \n",
       "1         129.99  http://images.acmesports.sports/Under+Armour+M...  \n",
       "2          89.99  http://images.acmesports.sports/Under+Armour+M...  \n",
       "3          89.99  http://images.acmesports.sports/Under+Armour+M...  \n",
       "4         199.99  http://images.acmesports.sports/Riddell+Youth+...  "
      ]
     },
     "execution_count": 9,
     "metadata": {},
     "output_type": "execute_result"
    }
   ],
   "source": [
    "PRODUCTS_RAW = pd.read_csv('products/part-00000', header=None)\n",
    "\n",
    "PRODUCTS_RAW.columns = [\n",
    "    'product_id', 'product_category_id', 'product_name', 'product_description',\n",
    "    'product_price', 'product_image'\n",
    "]\n",
    "\n",
    "PRODUCTS_RAW.head()"
   ]
  },
  {
   "cell_type": "code",
   "execution_count": 18,
   "id": "3fd0b65e",
   "metadata": {},
   "outputs": [
    {
     "data": {
      "text/plain": [
       "product_id                0\n",
       "product_category_id       0\n",
       "product_name              0\n",
       "product_description    1003\n",
       "product_price             0\n",
       "product_image             0\n",
       "dtype: int64"
      ]
     },
     "execution_count": 18,
     "metadata": {},
     "output_type": "execute_result"
    }
   ],
   "source": [
    "PRODUCTS_RAW.isna().sum()"
   ]
  },
  {
   "cell_type": "code",
   "execution_count": 24,
   "id": "27b60246",
   "metadata": {},
   "outputs": [],
   "source": [
    "ORDERS_MERGED = pd.merge(\n",
    "    ORDERS_RAW, ORDER_ITEMS_RAW,\n",
    "    left_on='order_id', \n",
    "    right_on='order_item_order_id'\n",
    ")"
   ]
  },
  {
   "cell_type": "code",
   "execution_count": 25,
   "id": "b6749dc8",
   "metadata": {},
   "outputs": [
    {
     "data": {
      "text/plain": [
       "Index(['order_id', 'order_date', 'order_customer_id', 'order_status',\n",
       "       'order_item_id', 'order_item_order_id', 'order_item_product_id',\n",
       "       'order_item_quantity', 'order_item_subtotal', 'order_item_price'],\n",
       "      dtype='object')"
      ]
     },
     "execution_count": 25,
     "metadata": {},
     "output_type": "execute_result"
    }
   ],
   "source": [
    "ORDERS_MERGED.columns"
   ]
  },
  {
   "cell_type": "code",
   "execution_count": 27,
   "id": "d54f91fb",
   "metadata": {},
   "outputs": [],
   "source": [
    "ORDERS_MERGED = ORDERS_MERGED[['order_date', 'order_status','order_item_product_id',\n",
    "       'order_item_quantity', 'order_item_subtotal', 'order_item_price']]"
   ]
  },
  {
   "cell_type": "code",
   "execution_count": 30,
   "id": "fe11d6e2",
   "metadata": {},
   "outputs": [
    {
     "data": {
      "text/html": [
       "<div>\n",
       "<style scoped>\n",
       "    .dataframe tbody tr th:only-of-type {\n",
       "        vertical-align: middle;\n",
       "    }\n",
       "\n",
       "    .dataframe tbody tr th {\n",
       "        vertical-align: top;\n",
       "    }\n",
       "\n",
       "    .dataframe thead th {\n",
       "        text-align: right;\n",
       "    }\n",
       "</style>\n",
       "<table border=\"1\" class=\"dataframe\">\n",
       "  <thead>\n",
       "    <tr style=\"text-align: right;\">\n",
       "      <th></th>\n",
       "      <th>order_date</th>\n",
       "      <th>order_status</th>\n",
       "      <th>order_item_product_id</th>\n",
       "      <th>order_item_quantity</th>\n",
       "      <th>order_item_subtotal</th>\n",
       "      <th>order_item_price</th>\n",
       "    </tr>\n",
       "  </thead>\n",
       "  <tbody>\n",
       "    <tr>\n",
       "      <th>8</th>\n",
       "      <td>2013-07-25 00:00:00.0</td>\n",
       "      <td>COMPLETE</td>\n",
       "      <td>957</td>\n",
       "      <td>1</td>\n",
       "      <td>299.98</td>\n",
       "      <td>299.98</td>\n",
       "    </tr>\n",
       "    <tr>\n",
       "      <th>9</th>\n",
       "      <td>2013-07-25 00:00:00.0</td>\n",
       "      <td>COMPLETE</td>\n",
       "      <td>365</td>\n",
       "      <td>5</td>\n",
       "      <td>299.95</td>\n",
       "      <td>59.99</td>\n",
       "    </tr>\n",
       "    <tr>\n",
       "      <th>10</th>\n",
       "      <td>2013-07-25 00:00:00.0</td>\n",
       "      <td>COMPLETE</td>\n",
       "      <td>1014</td>\n",
       "      <td>2</td>\n",
       "      <td>99.96</td>\n",
       "      <td>49.98</td>\n",
       "    </tr>\n",
       "    <tr>\n",
       "      <th>11</th>\n",
       "      <td>2013-07-25 00:00:00.0</td>\n",
       "      <td>COMPLETE</td>\n",
       "      <td>957</td>\n",
       "      <td>1</td>\n",
       "      <td>299.98</td>\n",
       "      <td>299.98</td>\n",
       "    </tr>\n",
       "    <tr>\n",
       "      <th>12</th>\n",
       "      <td>2013-07-25 00:00:00.0</td>\n",
       "      <td>COMPLETE</td>\n",
       "      <td>403</td>\n",
       "      <td>1</td>\n",
       "      <td>129.99</td>\n",
       "      <td>129.99</td>\n",
       "    </tr>\n",
       "  </tbody>\n",
       "</table>\n",
       "</div>"
      ],
      "text/plain": [
       "               order_date order_status  order_item_product_id  \\\n",
       "8   2013-07-25 00:00:00.0     COMPLETE                    957   \n",
       "9   2013-07-25 00:00:00.0     COMPLETE                    365   \n",
       "10  2013-07-25 00:00:00.0     COMPLETE                   1014   \n",
       "11  2013-07-25 00:00:00.0     COMPLETE                    957   \n",
       "12  2013-07-25 00:00:00.0     COMPLETE                    403   \n",
       "\n",
       "    order_item_quantity  order_item_subtotal  order_item_price  \n",
       "8                     1               299.98            299.98  \n",
       "9                     5               299.95             59.99  \n",
       "10                    2                99.96             49.98  \n",
       "11                    1               299.98            299.98  \n",
       "12                    1               129.99            129.99  "
      ]
     },
     "execution_count": 30,
     "metadata": {},
     "output_type": "execute_result"
    }
   ],
   "source": [
    "ORDERS_COMPLETE = ORDERS_MERGED.loc[ORDERS_MERGED.order_status == 'COMPLETE']\n",
    "\n",
    "\n",
    "ORDERS_COMPLETE.head()"
   ]
  },
  {
   "cell_type": "code",
   "execution_count": 31,
   "id": "29b3b3b1",
   "metadata": {},
   "outputs": [
    {
     "data": {
      "text/plain": [
       "(56740, 6)"
      ]
     },
     "execution_count": 31,
     "metadata": {},
     "output_type": "execute_result"
    }
   ],
   "source": [
    "ORDERS_COMPLETE.shape"
   ]
  },
  {
   "cell_type": "code",
   "execution_count": 45,
   "id": "5b9236b1",
   "metadata": {},
   "outputs": [
    {
     "name": "stderr",
     "output_type": "stream",
     "text": [
      "/var/folders/m6/1fg6kb812rl0xdc7jq5sp3km0000gn/T/ipykernel_62941/4039592531.py:1: SettingWithCopyWarning: \n",
      "A value is trying to be set on a copy of a slice from a DataFrame.\n",
      "Try using .loc[row_indexer,col_indexer] = value instead\n",
      "\n",
      "See the caveats in the documentation: https://pandas.pydata.org/pandas-docs/stable/user_guide/indexing.html#returning-a-view-versus-a-copy\n",
      "  ORDERS_COMPLETE['order_date'] = pd.to_datetime(ORDERS_COMPLETE.order_date)\n"
     ]
    }
   ],
   "source": [
    "ORDERS_COMPLETE['order_date'] = pd.to_datetime(ORDERS_COMPLETE.order_date)"
   ]
  },
  {
   "cell_type": "code",
   "execution_count": 57,
   "id": "17b383a9",
   "metadata": {},
   "outputs": [
    {
     "data": {
      "text/plain": [
       "Timestamp('2014-07-17 00:00:00')"
      ]
     },
     "execution_count": 57,
     "metadata": {},
     "output_type": "execute_result"
    }
   ],
   "source": [
    "ORDERS_COMPLETE.order_date.max() - timedelta(days=7)"
   ]
  },
  {
   "cell_type": "code",
   "execution_count": 51,
   "id": "a7af75c1",
   "metadata": {},
   "outputs": [],
   "source": [
    "from sqlalchemy import create_engine\n",
    "\n",
    "db_string = \n",
    "db = create_engine(db_string)"
   ]
  },
  {
   "cell_type": "code",
   "execution_count": 52,
   "id": "8eb2b347",
   "metadata": {},
   "outputs": [
    {
     "data": {
      "text/plain": [
       "740"
      ]
     },
     "execution_count": 52,
     "metadata": {},
     "output_type": "execute_result"
    }
   ],
   "source": [
    "ORDERS_COMPLETE.to_sql('orders', con=db, schema='scd')"
   ]
  },
  {
   "cell_type": "code",
   "execution_count": 53,
   "id": "c59adc2b",
   "metadata": {},
   "outputs": [],
   "source": [
    "from datetime import timedelta"
   ]
  },
  {
   "cell_type": "code",
   "execution_count": null,
   "id": "2d03dda4",
   "metadata": {},
   "outputs": [],
   "source": []
  }
 ],
 "metadata": {
  "kernelspec": {
   "display_name": "Python [conda env:secretlab]",
   "language": "python",
   "name": "conda-env-secretlab-py"
  },
  "language_info": {
   "codemirror_mode": {
    "name": "ipython",
    "version": 3
   },
   "file_extension": ".py",
   "mimetype": "text/x-python",
   "name": "python",
   "nbconvert_exporter": "python",
   "pygments_lexer": "ipython3",
   "version": "3.8.13"
  }
 },
 "nbformat": 4,
 "nbformat_minor": 5
}
